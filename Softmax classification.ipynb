{
 "cells": [
  {
   "cell_type": "code",
   "execution_count": 8,
   "metadata": {},
   "outputs": [],
   "source": [
    "import scipy.io\n",
    "from sklearn.model_selection import train_test_split\n",
    "from keras.utils.np_utils import to_categorical \n",
    "from keras.models import Sequential\n",
    "from keras.layers import Dense\n",
    "from sklearn import metrics"
   ]
  },
  {
   "cell_type": "code",
   "execution_count": 2,
   "metadata": {},
   "outputs": [],
   "source": [
    "#Loading the data\n",
    "data = scipy.io.loadmat('C://Users/LAVEENA/Desktop/Multi_class_classification.mat')\n",
    "X = data['X']\n",
    "y = data['y']"
   ]
  },
  {
   "cell_type": "code",
   "execution_count": 3,
   "metadata": {},
   "outputs": [],
   "source": [
    "#converting labels to one hot encodings\n",
    "y = to_categorical(y)\n",
    "#splitting data into test and train sets\n",
    "X_train, X_test, y_train, y_test = train_test_split(X, y, test_size=0.3)\n"
   ]
  },
  {
   "cell_type": "code",
   "execution_count": 4,
   "metadata": {},
   "outputs": [
    {
     "name": "stdout",
     "output_type": "stream",
     "text": [
      "WARNING:tensorflow:From C:\\Users\\LAVEENA\\Anaconda3\\lib\\site-packages\\tensorflow\\python\\framework\\op_def_library.py:263: colocate_with (from tensorflow.python.framework.ops) is deprecated and will be removed in a future version.\n",
      "Instructions for updating:\n",
      "Colocations handled automatically by placer.\n",
      "_________________________________________________________________\n",
      "Layer (type)                 Output Shape              Param #   \n",
      "=================================================================\n",
      "dense_1 (Dense)              (None, 200)               80200     \n",
      "_________________________________________________________________\n",
      "dense_2 (Dense)              (None, 12)                2412      \n",
      "_________________________________________________________________\n",
      "dense_3 (Dense)              (None, 11)                143       \n",
      "=================================================================\n",
      "Total params: 82,755\n",
      "Trainable params: 82,755\n",
      "Non-trainable params: 0\n",
      "_________________________________________________________________\n"
     ]
    }
   ],
   "source": [
    "#defining structure of neural net\n",
    "model = Sequential()\n",
    "model.add(Dense(200, input_dim=400, activation='relu')) #input shape is mx400, and outputs matrix of size mx200\n",
    "model.add(Dense(12, activation='relu')) #output shape is  mx12\n",
    "model.add(Dense(11, activation='softmax')) #outputs  mx11, where m is no. of samples\n",
    "model.summary()\n"
   ]
  },
  {
   "cell_type": "code",
   "execution_count": 5,
   "metadata": {},
   "outputs": [
    {
     "name": "stdout",
     "output_type": "stream",
     "text": [
      "WARNING:tensorflow:From C:\\Users\\LAVEENA\\Anaconda3\\lib\\site-packages\\tensorflow\\python\\ops\\math_ops.py:3066: to_int32 (from tensorflow.python.ops.math_ops) is deprecated and will be removed in a future version.\n",
      "Instructions for updating:\n",
      "Use tf.cast instead.\n",
      "Epoch 1/20\n",
      " - 1s - loss: 1.9111 - acc: 0.3754\n",
      "Epoch 2/20\n",
      " - 0s - loss: 1.0304 - acc: 0.7166\n",
      "Epoch 3/20\n",
      " - 0s - loss: 0.5865 - acc: 0.8660\n",
      "Epoch 4/20\n",
      " - 0s - loss: 0.4158 - acc: 0.8943\n",
      "Epoch 5/20\n",
      " - 0s - loss: 0.3324 - acc: 0.9177\n",
      "Epoch 6/20\n",
      " - 0s - loss: 0.2830 - acc: 0.9269\n",
      "Epoch 7/20\n",
      " - 0s - loss: 0.2469 - acc: 0.9366\n",
      "Epoch 8/20\n",
      " - 0s - loss: 0.2194 - acc: 0.9454\n",
      "Epoch 9/20\n",
      " - 0s - loss: 0.1910 - acc: 0.9534\n",
      "Epoch 10/20\n",
      " - 0s - loss: 0.1748 - acc: 0.9563\n",
      "Epoch 11/20\n",
      " - 0s - loss: 0.1552 - acc: 0.9657\n",
      "Epoch 12/20\n",
      " - 0s - loss: 0.1381 - acc: 0.9689\n",
      "Epoch 13/20\n",
      " - 0s - loss: 0.1224 - acc: 0.9740\n",
      "Epoch 14/20\n",
      " - 0s - loss: 0.1120 - acc: 0.9766\n",
      "Epoch 15/20\n",
      " - 0s - loss: 0.1033 - acc: 0.9791\n",
      "Epoch 16/20\n",
      " - 0s - loss: 0.0920 - acc: 0.9777\n",
      "Epoch 17/20\n",
      " - 0s - loss: 0.0829 - acc: 0.9834\n",
      "Epoch 18/20\n",
      " - 0s - loss: 0.0741 - acc: 0.9854\n",
      "Epoch 19/20\n",
      " - 0s - loss: 0.0678 - acc: 0.9883\n",
      "Epoch 20/20\n",
      " - 0s - loss: 0.0612 - acc: 0.9877\n"
     ]
    }
   ],
   "source": [
    "#fitting the model\n",
    "model.compile(loss='categorical_crossentropy', optimizer='adam', metrics=['accuracy'])\n",
    "history = model.fit(x = X_train, y=y_train, batch_size=100, epochs=20, verbose=2, validation_split = 0.0, shuffle = True)\n"
   ]
  },
  {
   "cell_type": "code",
   "execution_count": 16,
   "metadata": {},
   "outputs": [
    {
     "name": "stdout",
     "output_type": "stream",
     "text": [
      "0.9259999995231628\n"
     ]
    }
   ],
   "source": [
    "_, test_acc = model.evaluate(X_test, y_test, verbose=0)\n",
    "print(test_acc)"
   ]
  },
  {
   "cell_type": "code",
   "execution_count": null,
   "metadata": {},
   "outputs": [],
   "source": []
  },
  {
   "cell_type": "code",
   "execution_count": null,
   "metadata": {},
   "outputs": [],
   "source": []
  }
 ],
 "metadata": {
  "kernelspec": {
   "display_name": "Python 3",
   "language": "python",
   "name": "python3"
  },
  "language_info": {
   "codemirror_mode": {
    "name": "ipython",
    "version": 3
   },
   "file_extension": ".py",
   "mimetype": "text/x-python",
   "name": "python",
   "nbconvert_exporter": "python",
   "pygments_lexer": "ipython3",
   "version": "3.7.1"
  }
 },
 "nbformat": 4,
 "nbformat_minor": 2
}
